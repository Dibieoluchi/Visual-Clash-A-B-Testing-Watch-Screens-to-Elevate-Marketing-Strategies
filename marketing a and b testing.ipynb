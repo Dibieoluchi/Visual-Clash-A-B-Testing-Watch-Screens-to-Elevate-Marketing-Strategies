{
 "cells": [
  {
   "cell_type": "markdown",
   "id": "12f7e68e",
   "metadata": {},
   "source": [
    "Visual Clash: A/B Testing Watch Screens to Elevate Marketing Strategies\n",
    "The watch company 'Timetrends' is conducting a study to boost its sales by investigating changes to the watch screen design. Two types of campaigns have been set up: a control campaign using the existing watch screen design (Design A) and a test campaign incorporating a slightly different design with a different CTA at the bottom of the page. Instead of a complete redesign, the best practice is to make targeted changes to specific parts of the screen to see how these adjustments impact profit and engagement.\n",
    "\n",
    "Dataset Features:\n",
    "\n",
    "Campaign Name: Identifies each advertising campaign in the dataset.\n",
    "\n",
    "Date: Records the date of each entry, providing a temporal dimension to the analysis.\n",
    "\n",
    "Spend: Reflects the amount invested in each campaign in dollars.\n",
    "\n",
    "Impressions and Reach: Measure the visibility and unique impressions achieved by the ads.\n",
    "\n",
    "Website Clicks, Searches, View Content, Add to Cart, Purchase: User interactions captured during the campaigns, providing insights into engagement and conversion.\n",
    "\n",
    "Hypothesis: Our project hinges on a clear hypothesis:\n",
    "\n",
    "Null Hypothesis (H0): The new watch screen design does not yield a significant improvement in marketing campaign performance, measured by user engagement and sales metrics, compared to the existing design.\n",
    "\n",
    "Alternative Hypothesis (H1): The new watch screen design outperforms the existing design, resulting in a notable enhancement of user engagement and sales metrics in marketing campaigns.\n",
    "\n",
    "Key Performance Indicators (KPIs):\n",
    "\n",
    "In selecting KPIs for this test, high-level metrics are prioritized to ensure a comprehensive evaluation of campaign success. The primary KPI should be a measure of profitability, such as ROI, to reflect the overall impact of the campaign. While CTR is also an important metric, it should serve as a secondary KPI. If the test design yields a higher CTR but does not improve ROI, it may not be worth implementing.\n",
    "\n",
    "Primary KPI:\n",
    "\n",
    "Return on Investment (ROI): This metric reflects the profitability of the campaign and should be the main focus.\n",
    "\n",
    "Secondary KPIs:\n",
    "\n",
    "Click-Through Rate (CTR): Percentage of impressions that resulted in a click.\n",
    "\n",
    "Conversion Rate: Percentage of clicks that resulted in a purchase.\n",
    "\n",
    "Your company has tasked you with determining which watch screen design changes work better for boosting sales and engagement. To achieve this, an A/B test will be conducted. Your job is to be the data detective, analyzing the numbers and providing a clear verdict on which watch screen design is the superior choice. Your findings will guide future decisions on how Timetrends showcases its watches to the world.\n",
    "\n",
    "Get ready to dig into the data and let the company know which watch screen design is the real superstar for our ads. Your analysis will shape the path for our marketing strategies moving forward."
   ]
  },
  {
   "cell_type": "markdown",
   "id": "bc0c8f1e",
   "metadata": {},
   "source": [
    "Task 1: Loading Control Campaign Data\n",
    "Before we start our analysis, we need to view the control campaign dataset. It's essential to analyze the data and identify the columns it contains. Let's take a look.\n",
    "​\n",
    "​"
   ]
  },
  {
   "cell_type": "code",
   "execution_count": null,
   "id": "8b89b866",
   "metadata": {},
   "outputs": [],
   "source": [
    "#--- Import Pandas ---\n",
    "import pandas as pd\n",
    "\n",
    "#--- Read in dataset (control_group.csv) ----\n",
    "# ---WRITE YOUR CODE FOR TASK 1 ---\n",
    "# Define the file path\n",
    "file_path = './control_group.csv'\n",
    "\n",
    "# Load the data into a DataFrame using ';' as the separator\n",
    "control_df = pd.read_csv(file_path, sep=';')\n",
    "\n",
    "# Display the first few rows of the DataFrame to confirm it's loaded correctly\n",
    "control_df.head()"
   ]
  },
  {
   "cell_type": "code",
   "execution_count": null,
   "id": "412d2823",
   "metadata": {},
   "outputs": [],
   "source": [
    "Task 2: Loading Test Campaign Data\n",
    "Excellent work on reviewing the control campaign data! Now, let's continue the progress. We're loading the data from the test campaign."
   ]
  },
  {
   "cell_type": "code",
   "execution_count": null,
   "id": "ab04e606",
   "metadata": {},
   "outputs": [],
   "source": [
    "#--- Read in dataset (test_group.csv) ----\n",
    "# ---WRITE YOUR CODE FOR TASK 2 ---\n",
    "import pandas as pd\n",
    "\n",
    "# Define the file path\n",
    "file_path = './test_group.csv'\n",
    "\n",
    "# Load the data into a DataFrame using ';' as the separator\n",
    "test_df = pd.read_csv(file_path, sep=';')\n",
    "\n",
    "# Display the first few rows of the DataFrame to confirm it's loaded correctly\n",
    "test_df.head()\n"
   ]
  },
  {
   "cell_type": "code",
   "execution_count": null,
   "id": "a7950b62",
   "metadata": {},
   "outputs": [],
   "source": [
    "Task 3: Simplifying Column Names for Better Understanding\n",
    "Good job with the test campaign data! The column names in the control campaign are a bit tricky. Let's make them simpler and easier to understand. Ready for the next step?"
   ]
  },
  {
   "cell_type": "code",
   "execution_count": null,
   "id": "4c12e4c0",
   "metadata": {},
   "outputs": [],
   "source": [
    "# --- WRITE YOUR CODE FOR TASK 3 ---\n",
    "#control_df = # Rename the columns\n",
    "control_df.columns = control_df.columns = ['Campaign Name', 'Date', 'Amount Spent', 'Impressions', 'Reach', 'Number of Clicks', 'Number of Searches', 'Number of views', 'Number Added to cart', 'Purchase Number']\n",
    "\n",
    "# Display the first few rows of the DataFrame to confirm the column names are updated\n",
    "control_df.head()\n",
    "\n",
    "#--- Inspect data ---"
   ]
  },
  {
   "cell_type": "code",
   "execution_count": null,
   "id": "123f2f5a",
   "metadata": {},
   "outputs": [],
   "source": [
    "Task 4: Friendly Names for the Test Campaign Data\n",
    "Awesome work organizing the control campaign columns! Now, let's do the same for the test campaign. We need simpler and clearer names for better understanding. Can you assist by suggesting clearer names? Your input is valuable in making our data more user-friendly!\n",
    "\n"
   ]
  },
  {
   "cell_type": "code",
   "execution_count": null,
   "id": "2a403f94",
   "metadata": {},
   "outputs": [],
   "source": [
    "# --- WRITE YOUR CODE FOR TASK 4 ---\n",
    "\n",
    "# Rename the columns\n",
    "test_df.columns = ['Campaign Name', 'Date', 'Amount Spent', 'Impressions', 'Reach', 'Number of Clicks', 'Number of Searches', 'Number of views', 'Number Added to cart', 'Purchase Number']\n",
    "# Display the first few rows of the DataFrame to confirm the column names are updated\n",
    "test_df.head()\n",
    "\n",
    "#--- Inspect data ---"
   ]
  },
  {
   "cell_type": "code",
   "execution_count": null,
   "id": "832ae963",
   "metadata": {},
   "outputs": [],
   "source": [
    "Task 5: Checking for Missing Values in Test Campaign Data\n",
    "Fantastic progress! Now, let's check for any missing values in our test campaign data. We need to count how many blanks we've got. Let's check it."
   ]
  },
  {
   "cell_type": "code",
   "execution_count": null,
   "id": "d0df208d",
   "metadata": {},
   "outputs": [],
   "source": [
    "# --- WRITE YOUR CODE FOR TASK 5 ---\n",
    "\n",
    "# Count the number of null values in each column\n",
    "null_sum_controldf = control_df.isnull().sum()\n",
    "\n",
    "# Display the result\n",
    "null_sum_controldf\n",
    "#--- Inspect data ---"
   ]
  },
  {
   "cell_type": "code",
   "execution_count": null,
   "id": "abefa7f2",
   "metadata": {},
   "outputs": [],
   "source": [
    "Task 6: Handling Missing Values in Control Campaign Data\n",
    "Excellent job spotting missing values in the control campaign data! Now, let's ensure our data is complete. We're filling in missing values using the average for each column. Let's make our data more complete."
   ]
  },
  {
   "cell_type": "code",
   "execution_count": null,
   "id": "bfa6d718",
   "metadata": {},
   "outputs": [],
   "source": [
    "# --- WRITE YOUR CODE FOR TASK 6 ---\n",
    "# Fill missing values with the mean of their respective columns\n",
    "control_df.fillna(control_df.mean(numeric_only=True), inplace=True)\n",
    "\n",
    "# Display the first few rows of the DataFrame to confirm the missing values are filled\n",
    "control_df.head()\n",
    "\n",
    "#--- Inspect data ---"
   ]
  },
  {
   "cell_type": "code",
   "execution_count": null,
   "id": "28b16a2d",
   "metadata": {},
   "outputs": [],
   "source": [
    "Task 7: Checking for Missing Values in Test Campaign Data\n",
    "Great work so far! Now, let's do the same for the test campaign. We're looking for any missing values. Ready to ensure our test data is complete and good to go?"
   ]
  },
  {
   "cell_type": "code",
   "execution_count": null,
   "id": "6cb9b786",
   "metadata": {},
   "outputs": [],
   "source": [
    "# --- WRITE YOUR CODE FOR TASK 7 ---\n",
    "# Count the number of null values in each column\n",
    "null_sum_testdf = test_df.isnull().sum()\n",
    "\n",
    "# Display the result\n",
    "null_sum_testdf\n",
    "\n",
    "#--- Inspect data ---"
   ]
  },
  {
   "cell_type": "code",
   "execution_count": null,
   "id": "abb661d9",
   "metadata": {},
   "outputs": [],
   "source": [
    "Task 8: Understanding Control Campaign Data Numbers\n",
    "Good work! Now, let's look into the control campaign data. We want to find out important details like average spending, ad reach, clicks, and more. Your task is to get these insights from the numbers. Let's dig in and guide our marketing strategy. Let's go!"
   ]
  },
  {
   "cell_type": "code",
   "execution_count": null,
   "id": "f4f8f9e6",
   "metadata": {},
   "outputs": [],
   "source": [
    "# --- WRITE YOUR CODE FOR TASK 8 ---\n",
    "# Generate descriptive statistics for the control group data\n",
    "control_describe = control_df.describe()\n",
    "\n",
    "# Display the result\n",
    "control_describe\n",
    "\n",
    "#--- Inspect data ---"
   ]
  },
  {
   "cell_type": "code",
   "execution_count": null,
   "id": "7a7ae2c0",
   "metadata": {},
   "outputs": [],
   "source": [
    "Task 9: Understanding Test Campaign Numbers\n",
    "Making good progress! Now, let's focus on our test campaign. We're interested in basics like average spending, reach, and more. Your task is to dive into these details and simplify the numbers for us. Let's explore the insights that will guide our marketing strategy. Let's get started!"
   ]
  },
  {
   "cell_type": "code",
   "execution_count": null,
   "id": "1419367c",
   "metadata": {},
   "outputs": [],
   "source": [
    "# --- WRITE YOUR CODE FOR TASK 9 ---\n",
    "test_describe =test_df.describe()\n",
    "\n",
    "# Display the result\n",
    "test_describe\n",
    "\n",
    "#--- Inspect data ---"
   ]
  },
  {
   "cell_type": "code",
   "execution_count": null,
   "id": "74fdadaa",
   "metadata": {},
   "outputs": [],
   "source": [
    "Task 10: Understanding Purchase Numbers Distribution\n",
    "Fantastic! Now, let's look into the distribution of our key metric, the 'Purchase Number.' We aim to understand how it's spread out. Your task is to conduct a Normality check on this metric for both groups and jot down the results. Let's study."
   ]
  },
  {
   "cell_type": "code",
   "execution_count": null,
   "id": "69a01e9b",
   "metadata": {},
   "outputs": [],
   "source": [
    "# #--- Import shapiro from scipy.stats ---\n",
    "from scipy.stats import shapiro\n",
    "# # --- WRITE YOUR CODE FOR TASK 10 ---\n",
    "# Perform Shapiro-Wilk tests for 'Purchase Number' column\n",
    "shapiro_control = shapiro(control_df['Purchase Number'])\n",
    "shapiro_test = shapiro(test_df['Purchase Number'])\n",
    "\n",
    "# Create DataFrame for Shapiro-Wilk test results\n",
    "shapiro_results = pd.DataFrame({\n",
    "    'Group': ['Control', 'Test'],\n",
    "    'Test Statistic': [shapiro_control.statistic, shapiro_test.statistic],\n",
    "    'P-value': [shapiro_control.pvalue, shapiro_test.pvalue]\n",
    "})\n",
    "\n",
    "# Display the Shapiro-Wilk test results\n",
    "shapiro_results\n",
    "\n",
    "# #--- Inspect data ---"
   ]
  },
  {
   "cell_type": "code",
   "execution_count": null,
   "id": "b36af835",
   "metadata": {},
   "outputs": [],
   "source": [
    "When the p-value is higher than 0.05 (common significance level), it means we don't have enough evidence to say the data significantly deviates from a normal distribution. On the other hand, if the p-value is lower than 0.05, it suggests the data significantly deviates from a normal distribution."
   ]
  },
  {
   "cell_type": "code",
   "execution_count": null,
   "id": "0bd71730",
   "metadata": {},
   "outputs": [],
   "source": [
    "Task 11: Comparing Purchase Numbers with a T-Test\n",
    "Great job so far! Now, let's compare the 'Purchase Number' between our control and test groups. We'll use a t-test to check for a significant difference. Your task is to run this test and share what the numbers reveal. Ready to see if there's a standout performer between the groups? Let's find out!"
   ]
  },
  {
   "cell_type": "code",
   "execution_count": null,
   "id": "dbec8d25",
   "metadata": {},
   "outputs": [],
   "source": [
    "#--- import stats from scipy ---\n",
    "from scipy.stats import ttest_ind\n",
    "# --- WRITE YOUR CODE FOR TASK 11 ---\n",
    "#t_stat, p_value = ...\n",
    "# Perform t-test for 'Purchase Number' column\n",
    "t_stat, p_value = ttest_ind(control_df['Purchase Number'], test_df['Purchase Number'])\n",
    "\n",
    "# Display the t-statistic and p-value\n",
    "t_stat\n",
    "p_value\n",
    "\n",
    "#--- Inspect data ---"
   ]
  },
  {
   "cell_type": "code",
   "execution_count": null,
   "id": "bd784c0a",
   "metadata": {},
   "outputs": [],
   "source": [
    "Task 12: Comparing Cost per Conversion in Control and Test Campaigns\n",
    "Good work! Now, let's discuss cost-effectiveness. We've figured out the 'Cost per Conversion' for both control and test groups. Your task is to determine the average cost for each. Let's see which campaign is more budget-friendly for turning clicks into purchases. Let's analyze the numbers!"
   ]
  },
  {
   "cell_type": "code",
   "execution_count": null,
   "id": "b53f0bb1",
   "metadata": {},
   "outputs": [],
   "source": [
    "# --- WRITE YOUR CODE FOR TASK 12 ---\n",
    "#average_cost_control,average_cost_test = ...\n",
    "#Compute the mean of 'Cost per Conversion' for both control group and test group\n",
    "# Calculate 'Cost per Conversion' for both control group and test group\n",
    "control_df['Cost per Conversion'] = control_df['Amount Spent'] / control_df['Purchase Number']\n",
    "test_df['Cost per Conversion'] = test_df['Amount Spent'] / test_df['Purchase Number']\n",
    "\n",
    "# Compute the mean of 'Cost per Conversion' for both control group and test group\n",
    "average_cost_control = control_df['Cost per Conversion'].mean()\n",
    "average_cost_test = test_df['Cost per Conversion'].mean()\n",
    "\n",
    "\n",
    "#--- Inspect data ---\n",
    "average_cost_control \n",
    "average_cost_test"
   ]
  },
  {
   "cell_type": "code",
   "execution_count": null,
   "id": "dcf1d097",
   "metadata": {},
   "outputs": [],
   "source": [
    "Task 13: Merging Datasets for In-Depth Analysis\n",
    "Fantastic job! Now, to calculate the primary (ROI) and secondary KPIs (CTR, Conversion Rate, CPC), we need to merge the control and test datasets. Let's proceed with merging the datasets to prepare for deeper analysis.\n",
    "\n",
    "# --- WRITE YOUR CODE FOR TASK 13"
   ]
  },
  {
   "cell_type": "code",
   "execution_count": null,
   "id": "f97dbba3",
   "metadata": {},
   "outputs": [],
   "source": [
    "# --- WRITE YOUR CODE FOR TASK 13 ---\n",
    "# Add a column to identify the group\n",
    "\n",
    "# Concatenate the control group and test group DataFrames\n",
    "merged = pd.concat([control_df, test_df], ignore_index=True)\n",
    "\n",
    "# Display the first few rows of the merged DataFrame\n",
    "merged.head()\n",
    "\n",
    "#--- Inspect data ---"
   ]
  },
  {
   "cell_type": "code",
   "execution_count": null,
   "id": "a013ae41",
   "metadata": {},
   "outputs": [],
   "source": [
    "Task 14: Enhancing Dataset with ROI,CTR, Conversion Rate, and CPC\n",
    "Great progress! Now, let's take it a step further by incorporating additional metrics such as Click-Through Rate (CTR), Conversion Rate, Cost Per Click (CPC), and Return On Investment (ROI). These metrics are pivotal in assessing campaign effectiveness. Calculate the primary KPI, Return On Investment (ROI), and the secondary KPIs, Conversion Rate, Click-Through Rate (CTR), and Cost Per Click (CPC), to provide comprehensive insights into our campaign strategies.\n",
    "\n",
    "Primary KPI:\n",
    "\n",
    "Return On Investment (ROI): reflects the profitability of our campaigns.\n",
    "\n",
    "Secondary KPIs:\n",
    "\n",
    "Click-Through Rate (CTR): This measures how successful an ad has been in capturing users' attention. The higher the CTR, the more successful the ad has been in generating interest.\n",
    "\n",
    "Conversion Rate: This is the ratio of users who take a desired action (e.g., making a purchase) to the total number of users who clicked on the ad.\n",
    "\n",
    "CPC (Cost Per Click): This metric determines how much advertisers pay for ads based on the number of clicks. It's essential for marketers to understand the price for their paid advertising campaigns.\n",
    "\n",
    "Your next task is to smoothly incorporate these metrics into our dataset. Let's go ahead and code it!"
   ]
  },
  {
   "cell_type": "code",
   "execution_count": null,
   "id": "f0552a10",
   "metadata": {},
   "outputs": [],
   "source": [
    "# --- WRITE YOUR CODE FOR TASK 14 ---\n",
    "#merged = ...\n",
    "merged['CTR'] = (merged['Number of Clicks'] / merged['Impressions']) * 100\n",
    "merged['Conversion Rate'] = (merged['Purchase Number'] / merged['Number of Clicks']) * 100\n",
    "merged['CPC'] = merged['Amount Spent'] / merged['Number of Clicks']\n",
    "merged['ROI'] = ((merged['Purchase Number'] - merged['Amount Spent']) / merged['Amount Spent']) * 100\n",
    "\n",
    "# Display the first few rows of the merged DataFrame with new metrics\n",
    "merged.head()\n",
    "#--- Inspect data ---"
   ]
  },
  {
   "cell_type": "code",
   "execution_count": null,
   "id": "b86767c7",
   "metadata": {},
   "outputs": [],
   "source": [
    "Task 15: Comparing Metrics in Control vs. Test Campaigns\n",
    "Congratulations on reaching the final task! We're now analyzing key metrics—Return On Investment (ROI) as our primary KPI, and Click-Through Rate (CTR), Conversion Rate, and Cost Per Click (CPC) as secondary KPIs—to compare our control and test campaigns.\n",
    "\n",
    "Using t-tests, we'll identify differences in these metrics and interpret results based on statistical significance (p-values) and effect sizes (t-statistics). By comparing Cost per Conversion in Control and Test Campaigns, we'll gain insights into overall campaign performance.\n",
    "\n",
    "With these insights, we'll conclude our A/B project by addressing the initial Null Hypothesis (H0) and Alternative Hypothesis (H1), guiding future marketing strategies for optimal results.\n",
    "\n",
    "Your task is to conduct t-tests for each metric and provide insights into whether these differences are significant.\n",
    "\n",
    "Let's wrap up this journey and determine the winning campaign strategy. Your efforts have been truly commendable!"
   ]
  },
  {
   "cell_type": "code",
   "execution_count": null,
   "id": "98a3b27a",
   "metadata": {},
   "outputs": [],
   "source": [
    "if 'CTR' not in control_df.columns:\n",
    "    control_df['CTR'] = (control_df['Number of Clicks'] / control_df['Impressions']) * 100\n",
    "    control_df['Conversion Rate'] = (control_df['Purchase Number'] / control_df['Number of Clicks']) * 100\n",
    "    control_df['CPC'] = control_df['Amount Spent'] / control_df['Number of Clicks']\n",
    "    control_df['ROI'] = ((control_df['Purchase Number'] - control_df['Amount Spent']) / control_df['Amount Spent']) * 100\n",
    "\n",
    "if 'CTR' not in test_df.columns:\n",
    "    test_df['CTR'] = (test_df['Number of Clicks'] / test_df['Impressions']) * 100\n",
    "    test_df['Conversion Rate'] = (test_df['Purchase Number'] / test_df['Number of Clicks']) * 100\n",
    "    test_df['CPC'] = test_df['Amount Spent'] / test_df['Number of Clicks']\n",
    "    test_df['ROI'] = ((test_df['Purchase Number'] - test_df['Amount Spent']) / test_df['Amount Spent']) * 100\n",
    "\n",
    "# Perform t-tests for ROI, CTR, Conversion Rate, and CPC\n",
    "metrics = ['ROI', 'CTR', 'Conversion Rate', 'CPC']\n",
    "t_test_results = []\n",
    "\n",
    "for metric in metrics:\n",
    "    t_stat, p_value = ttest_ind(control_df[metric], test_df[metric])\n",
    "    t_test_results.append({\n",
    "        'Metric': metric,\n",
    "        'T-Statistic': t_stat,\n",
    "        'P-Value': p_value\n",
    "    })\n",
    "\n",
    "# Convert results to DataFrame\n",
    "t_test_results = pd.DataFrame(t_test_results)\n",
    "\n",
    "# Display the t-test results\n",
    "t_test_results"
   ]
  },
  {
   "cell_type": "code",
   "execution_count": null,
   "id": "4dfee2bf",
   "metadata": {},
   "outputs": [],
   "source": [
    "Understanding p-values in Statistical Testing\n",
    "In statistical hypothesis testing, the p-value is a measure of the evidence against a null hypothesis. A small p-value (typically ≤ 0.05) suggests strong evidence against the null hypothesis, leading to its rejection. Conversely, a larger p-value suggests weak evidence against the null hypothesis."
   ]
  }
 ],
 "metadata": {
  "kernelspec": {
   "display_name": "Python 3 (ipykernel)",
   "language": "python",
   "name": "python3"
  },
  "language_info": {
   "codemirror_mode": {
    "name": "ipython",
    "version": 3
   },
   "file_extension": ".py",
   "mimetype": "text/x-python",
   "name": "python",
   "nbconvert_exporter": "python",
   "pygments_lexer": "ipython3",
   "version": "3.7.4"
  }
 },
 "nbformat": 4,
 "nbformat_minor": 5
}
